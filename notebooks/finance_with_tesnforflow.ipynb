{
 "cells": [
  {
   "cell_type": "markdown",
   "metadata": {},
   "source": [
    "# Finance with Tesorflow "
   ]
  },
  {
   "cell_type": "code",
   "execution_count": 1,
   "metadata": {},
   "outputs": [
    {
     "name": "stdout",
     "output_type": "stream",
     "text": [
      "2.1.0\n"
     ]
    }
   ],
   "source": [
    "import tensorflow as tf\n",
    "print(tf.__version__)"
   ]
  },
  {
   "cell_type": "markdown",
   "metadata": {},
   "source": [
    "## Introduction To Tensorflow"
   ]
  },
  {
   "cell_type": "code",
   "execution_count": 2,
   "metadata": {},
   "outputs": [
    {
     "data": {
      "text/plain": [
       "<tf.Tensor: shape=(), dtype=float32, numpy=0.14112>"
      ]
     },
     "execution_count": 2,
     "metadata": {},
     "output_type": "execute_result"
    }
   ],
   "source": [
    "def compute_sin(a, b):\n",
    "    a = tf.convert_to_tensor(a, name=\"a\")\n",
    "    b = tf.convert_to_tensor(b, name=\"b\")\n",
    "    c = tf.add(a, b, name=\"addition\")\n",
    "    d = tf.sin(c, name=\"sin\")\n",
    "    return d\n",
    "\n",
    "compute_sin(1.0, 2.0)"
   ]
  },
  {
   "cell_type": "code",
   "execution_count": 4,
   "metadata": {},
   "outputs": [],
   "source": [
    "g = tf.Graph()\n",
    "\n",
    "with g.as_default():\n",
    "    with tf.name_scope('main_graph'):\n",
    "        c = compute_sin(1.0, 2.0)\n",
    "    writer = tf.compat.v1.summary.FileWriter(\"logs\", g)\n",
    "    writer.close()"
   ]
  },
  {
   "cell_type": "markdown",
   "metadata": {},
   "source": [
    "### tensorboard will pop up in another tab"
   ]
  },
  {
   "cell_type": "markdown",
   "metadata": {},
   "source": [
    "## tensor and shapes"
   ]
  },
  {
   "cell_type": "code",
   "execution_count": 5,
   "metadata": {},
   "outputs": [],
   "source": [
    "import numpy as np"
   ]
  },
  {
   "cell_type": "code",
   "execution_count": 7,
   "metadata": {},
   "outputs": [
    {
     "name": "stdout",
     "output_type": "stream",
     "text": [
      "shape of 2.0 = ()\n",
      "\n"
     ]
    }
   ],
   "source": [
    "x = np.array(2.0)\n",
    "t = tf.constant(x)\n",
    "print(\"shape of %s = %s\\n\" % (x, t.shape))"
   ]
  },
  {
   "cell_type": "code",
   "execution_count": 8,
   "metadata": {},
   "outputs": [
    {
     "name": "stdout",
     "output_type": "stream",
     "text": [
      "shape of [1 2 3 4 5] = (5,)\n",
      "\n"
     ]
    }
   ],
   "source": [
    "x = np.array([1,2,3,4,5])\n",
    "t = tf.constant(x)\n",
    "print(\"shape of %s = %s\\n\" % (x, t.shape))"
   ]
  },
  {
   "cell_type": "code",
   "execution_count": 17,
   "metadata": {},
   "outputs": [
    {
     "name": "stdout",
     "output_type": "stream",
     "text": [
      "x = tf.Tensor(\n",
      "[[1]\n",
      " [2]\n",
      " [3]\n",
      " [4]\n",
      " [5]], shape=(5, 1), dtype=int64)\n",
      "\n",
      "Shape x = (5, 1)\n",
      "\n",
      "rank x = tf.Tensor(2, shape=(), dtype=int32)\n",
      "\n",
      "size x = tf.Tensor(5, shape=(), dtype=int32)\n",
      "\n"
     ]
    }
   ],
   "source": [
    "x = tf.constant(np.array([[1], [2], [3], [4], [5]]))\n",
    "print(\"x = %s\\n\" % x)\n",
    "print(\"Shape x = %s\\n\" % x.shape)\n",
    "print(\"rank x = %s\\n\" % tf.rank(x))\n",
    "print(\"size x = %s\\n\" % tf.size(x))"
   ]
  },
  {
   "cell_type": "code",
   "execution_count": 16,
   "metadata": {},
   "outputs": [
    {
     "name": "stdout",
     "output_type": "stream",
     "text": [
      "x = tf.Tensor([[1 2 3 4 5]], shape=(1, 5), dtype=int64)\n",
      "\n",
      "Shape x = (1, 5)\n",
      "\n",
      "rank x = tf.Tensor(2, shape=(), dtype=int32)\n",
      "\n",
      "size x = tf.Tensor(5, shape=(), dtype=int32)\n",
      "\n"
     ]
    }
   ],
   "source": [
    "x = tf.constant(np.array([[1,2,3,4,5]]))\n",
    "print(\"x = %s\\n\" % x)\n",
    "print(\"Shape x = %s\\n\" % x.shape)\n",
    "print(\"rank x = %s\\n\" % tf.rank(x))\n",
    "print(\"size x = %s\\n\" % tf.size(x))"
   ]
  },
  {
   "cell_type": "code",
   "execution_count": 15,
   "metadata": {},
   "outputs": [
    {
     "name": "stdout",
     "output_type": "stream",
     "text": [
      "x = tf.Tensor([ 1  2  3  4  5  6  7  8  9 10 11 12], shape=(12,), dtype=int64)\n",
      "\n",
      "Shape x = (12,)\n",
      "\n",
      "rank x = tf.Tensor(1, shape=(), dtype=int32)\n",
      "\n",
      "size x = tf.Tensor(12, shape=(), dtype=int32)\n",
      "\n"
     ]
    }
   ],
   "source": [
    "x = tf.constant(np.arange(1, 13))\n",
    "print(\"x = %s\\n\" % x)\n",
    "print(\"Shape x = %s\\n\" % x.shape)\n",
    "print(\"rank x = %s\\n\" % tf.rank(x))\n",
    "print(\"size x = %s\\n\" % tf.size(x))"
   ]
  },
  {
   "cell_type": "code",
   "execution_count": 33,
   "metadata": {},
   "outputs": [
    {
     "name": "stdout",
     "output_type": "stream",
     "text": [
      "rank is tf.Tensor(4, shape=(), dtype=int32)\n",
      "\n",
      "Success!\n"
     ]
    }
   ],
   "source": [
    "#@title quiz\n",
    "# fill array!\n",
    "\n",
    "x = np.array([ [[[0,0]], [[0,0]]] ])\n",
    "t = tf.constant(x, name = \"t\")\n",
    "\n",
    "\n",
    "if t.shape == [1, 2, 1, 2]:\n",
    "  print (\"rank is %s\\n\" % tf.rank(t))\n",
    "  print (\"Success!\")\n",
    "else:\n",
    "  print (\"Shape was %s. Try again\"%t.shape)"
   ]
  },
  {
   "cell_type": "code",
   "execution_count": 32,
   "metadata": {},
   "outputs": [
    {
     "name": "stdout",
     "output_type": "stream",
     "text": [
      "tf.Tensor(3, shape=(), dtype=int32)\n"
     ]
    }
   ],
   "source": [
    "x = tf.constant(np.array([[[0,0]], [[0,0]]]))\n",
    "print(tf.rank(x))"
   ]
  },
  {
   "cell_type": "code",
   "execution_count": 37,
   "metadata": {},
   "outputs": [
    {
     "name": "stdout",
     "output_type": "stream",
     "text": [
      "orig [1 2 3 4]\n",
      "\n",
      "reshaped [[[[1]\n",
      "   [2]]]\n",
      "\n",
      "\n",
      " [[[3]\n",
      "   [4]]]]\n",
      "Shape of x = (2, 1, 2, 1)\n"
     ]
    }
   ],
   "source": [
    "x = np.arange(1, 5)\n",
    "print(\"orig %s\\n\" % x)\n",
    "x_reshaped = np.reshape(x, [2,1,2,1])\n",
    "print(\"reshaped %s\" % x_reshaped)\n",
    "t = tf.constant(x_reshaped)\n",
    "print(\"Shape of x = %s\" % t.shape)"
   ]
  },
  {
   "cell_type": "code",
   "execution_count": 39,
   "metadata": {},
   "outputs": [
    {
     "data": {
      "image/png": "[encoded data removed]",
      "text/plain": [
       "<Figure size 432x288 with 1 Axes>"
      ]
     },
     "metadata": {
      "needs_background": "light"
     },
     "output_type": "display_data"
    }
   ],
   "source": [
    "#@title Reshaping Quiz\n",
    "\n",
    "import numpy as np\n",
    "import matplotlib.pyplot as plt\n",
    "\n",
    "def create_grid(x, y):\n",
    "  \"\"\"Creates a grid on the complex plane from x and y.\n",
    "\n",
    "  Given a set of x and y coordinates as rank 1 tensors \n",
    "  of sizes n and m respectively, returns a complex tensor \n",
    "  of shape [n, m] containing points on the grid formed by\n",
    "  intersection of horizontal and vertical lines rooted at\n",
    "  those x and y values.\n",
    "  \n",
    "  Args:\n",
    "    x: A float32 or float64 tensor of shape [n]\n",
    "    y: A tensor of the same data type as x and shape [m].\n",
    "    \n",
    "  Returns:\n",
    "    A complex tensor with shape [n, m].\n",
    "  \"\"\"\n",
    "  X, Y = tf.meshgrid(x, y)\n",
    "  return tf.complex(X, Y)\n",
    "\n",
    "\n",
    "\n",
    "coords = tf.constant([1.0, 2.0, 3.0])\n",
    "square_grid = create_grid(coords, coords)\n",
    "\n",
    "def test():\n",
    "  x_p = np.array([1.0, 2.0, 3.0])\n",
    "  y_p = np.array([5.0, 6.0, 7.0, 8.0])\n",
    "  grid = create_grid(tf.constant(x_p),  tf.constant(y_p))\n",
    "  n_p = x_p.size * y_p.size\n",
    "  x = np.reshape(np.real(grid), [n_p])\n",
    "  y = np.reshape(np.imag(grid), [n_p])\n",
    "  plt.plot(x, y, 'ro')\n",
    "  plt.xlim((x_p.min() - 1.0, x_p.max() + 1.0))\n",
    "  plt.ylim((y_p.min() - 1.0, y_p.max() + 1.0))\n",
    "  plt.ylabel('Imaginary')\n",
    "  plt.xlabel('Real')\n",
    "  plt.show()\n",
    "\n",
    "test()"
   ]
  },
  {
   "cell_type": "markdown",
   "metadata": {},
   "source": [
    "## American Option Black Scholes"
   ]
  },
  {
   "cell_type": "code",
   "execution_count": 40,
   "metadata": {},
   "outputs": [
    {
     "name": "stdout",
     "output_type": "stream",
     "text": [
      "WARNING: pip is being invoked by an old script wrapper. This will fail in a future version of pip.\n",
      "Please see https://github.com/pypa/pip/issues/5599 for advice on fixing the underlying issue.\n",
      "To avoid this problem you can invoke Python with '-m pip' instead of running pip directly.\n",
      "Collecting tf-quant-finance\n",
      "  Downloading tf_quant_finance-0.0.1.dev19-py2.py3-none-any.whl (1.0 MB)\n",
      "\u001b[K     |████████████████████████████████| 1.0 MB 88 kB/s eta 0:00:0121\n",
      "\u001b[?25hCollecting tensorflow-probability>=0.8.0\n",
      "  Downloading tensorflow_probability-0.9.0-py2.py3-none-any.whl (3.2 MB)\n",
      "\u001b[K     |████████████████████████████████| 3.2 MB 132 kB/s eta 0:00:01\n",
      "\u001b[?25hRequirement already satisfied: attrs>=18.2.0 in /opt/conda/lib/python3.7/site-packages (from tf-quant-finance) (19.3.0)\n",
      "Requirement already satisfied: numpy>=1.16.0 in /opt/conda/lib/python3.7/site-packages (from tf-quant-finance) (1.17.5)\n",
      "Requirement already satisfied: gast>=0.2 in /opt/conda/lib/python3.7/site-packages (from tensorflow-probability>=0.8.0->tf-quant-finance) (0.2.2)\n",
      "Requirement already satisfied: six>=1.10.0 in /opt/conda/lib/python3.7/site-packages (from tensorflow-probability>=0.8.0->tf-quant-finance) (1.14.0)\n",
      "Requirement already satisfied: decorator in /opt/conda/lib/python3.7/site-packages (from tensorflow-probability>=0.8.0->tf-quant-finance) (4.4.1)\n",
      "Requirement already satisfied: cloudpickle>=1.2.2 in /opt/conda/lib/python3.7/site-packages (from tensorflow-probability>=0.8.0->tf-quant-finance) (1.2.2)\n",
      "Installing collected packages: tensorflow-probability, tf-quant-finance\n",
      "Successfully installed tensorflow-probability-0.9.0 tf-quant-finance-0.0.1.dev19\n"
     ]
    }
   ],
   "source": [
    "!pip install tf-quant-finance"
   ]
  },
  {
   "cell_type": "code",
   "execution_count": 41,
   "metadata": {},
   "outputs": [],
   "source": [
    "#@title Imports { display-mode: \"form\" }\n",
    "\n",
    "import matplotlib.pyplot as plt\n",
    "import numpy as np\n",
    "import time\n",
    "\n",
    "import pandas as pd\n",
    "import seaborn as sns\n",
    "\n",
    "import tensorflow as tf\n",
    "\n",
    "# tff for Tensorflow Finance\n",
    "import tf_quant_finance as tff \n",
    "\n",
    "# Shortcut alias\n",
    "pde = tff.math.pde\n",
    "\n",
    "from IPython.core.pylabtools import figsize\n",
    "figsize(21, 14)  # better graph size for Colab  \n",
    "\n",
    "import warnings\n",
    "warnings.filterwarnings(\"ignore\",\n",
    "                        category=FutureWarning)  # suppress printing warnings\n"
   ]
  },
  {
   "cell_type": "markdown",
   "metadata": {},
   "source": [
    "### Setup American Option pricer\n",
    "   American option price $V(x, t)$ of an option with spot price $x$ at time $t$\n",
    "   under Black-Scholes model satisfies the following PDE\n",
    "   $$V_{t} + \\frac{\\sigma^2}{2}  x^2  V_{xx} + r  x  V_{x}\n",
    " - r  V(t, x) = 0.$$\n",
    "  Tensorflow Quant Finance library provides tools for solving Parabolic PDE's\n",
    "  of the form  \n",
    "  $$V_{t} + \\frac{a(t, x)}{2}  V_{xx} + b(t, x) V_{x} - c(t, x)  V = 0$$\n",
    "\n",
    "  Henceforth,\n",
    "  $a(t, x)$, $b(t, x)$, and $c(t, x)$ are referred to as quadratic, linear and\n",
    "  shift coefficients, respectively. We describe in details how to write a\n",
    "  custom pricer that is both batchable (i.e., multiple equations can be solved\n",
    "  simultaneously) and compatible with an NVIDIA GPU. "
   ]
  },
  {
   "cell_type": "code",
   "execution_count": null,
   "metadata": {},
   "outputs": [],
   "source": []
  }
 ],
 "metadata": {
  "kernelspec": {
   "display_name": "Python 3",
   "language": "python",
   "name": "python3"
  },
  "language_info": {
   "codemirror_mode": {
    "name": "ipython",
    "version": 3
   },
   "file_extension": ".py",
   "mimetype": "text/x-python",
   "name": "python",
   "nbconvert_exporter": "python",
   "pygments_lexer": "ipython3",
   "version": "3.7.4"
  }
 },
 "nbformat": 4,
 "nbformat_minor": 4
}
